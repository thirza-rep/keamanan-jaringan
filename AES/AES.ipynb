{
 "cells": [
  {
   "cell_type": "code",
   "execution_count": 13,
   "id": "7c250c3d-a10e-45dd-871f-d7302d5a14d8",
   "metadata": {},
   "outputs": [
    {
     "name": "stdout",
     "output_type": "stream",
     "text": [
      "Palintext asli : Sabbe Satta Bhavantu Sukhitatta\n",
      "Ciphertext : 50fa1ff9b6a619a999312345c7fe5dc8a63b0e62184fc2426a3b90b681e5cac8\n",
      "Hasil dekripsi : Sabbe Satta Bhavantu Sukhitatta\n"
     ]
    }
   ],
   "source": [
    "from Crypto.Cipher import AES\n",
    "from Crypto.Util.Padding import pad, unpad\n",
    "from Crypto.Random import get_random_bytes\n",
    "\n",
    "plaintext = \"Sabbe Satta Bhavantu Sukhitatta\"\n",
    "key = b'MthirzaSalendraM'\n",
    "\n",
    "data = plaintext.encode('utf-8')\n",
    "data_padded = pad(data, AES.block_size)\n",
    "\n",
    "cipher = AES.new(key, AES.MODE_ECB)\n",
    "ciphertext = cipher.encrypt(data_padded)\n",
    "\n",
    "cipher_dec = AES.new(key, AES.MODE_ECB)\n",
    "decrypted = unpad(cipher_dec.decrypt(ciphertext), AES.block_size)\n",
    "\n",
    "print(\"Palintext asli :\", plaintext)\n",
    "print(\"Ciphertext :\", ciphertext.hex())\n",
    "print(\"Hasil dekripsi :\", decrypted.decode('utf-8'))\n"
   ]
  }
 ],
 "metadata": {
  "kernelspec": {
   "display_name": "Python [conda env:base] *",
   "language": "python",
   "name": "conda-base-py"
  },
  "language_info": {
   "codemirror_mode": {
    "name": "ipython",
    "version": 3
   },
   "file_extension": ".py",
   "mimetype": "text/x-python",
   "name": "python",
   "nbconvert_exporter": "python",
   "pygments_lexer": "ipython3",
   "version": "3.12.7"
  }
 },
 "nbformat": 4,
 "nbformat_minor": 5
}
