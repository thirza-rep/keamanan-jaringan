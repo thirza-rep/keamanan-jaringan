{
 "cells": [
  {
   "cell_type": "code",
   "execution_count": 5,
   "id": "e10a37b3-c353-4781-971c-c69174d047a4",
   "metadata": {},
   "outputs": [
    {
     "name": "stdout",
     "output_type": "stream",
     "text": [
      "Pesan asli     : saya m thirza salendra dari sumatra selatan\n",
      "Keyword        : sriwijaya\n",
      "Hasil enkripsi : krgw v rhaihw bajefuzw mapi jciicry kvtwbjn\n"
     ]
    }
   ],
   "source": [
    "def generate_key(message: str, keyword: str) -> str:\n",
    "    \"\"\"\n",
    "    Menyesuaikan panjang keyword agar sama dengan panjang pesan.\n",
    "    \"\"\"\n",
    "    keyword = list(keyword)\n",
    "    if len(message) == len(keyword):\n",
    "        return \"\".join(keyword)\n",
    "    else:\n",
    "        for i in range(len(message) - len(keyword)):\n",
    "            keyword.append(keyword[i % len(keyword)])\n",
    "    return \"\".join(keyword)\n",
    "\n",
    "def encrypt_vigenere(plain_text: str, keyword: str) -> str:\n",
    "    \"\"\"\n",
    "    Mengenkripsi plain_text menggunakan Vigenère Cipher dan keyword.\n",
    "    Hanya huruf alfabet yang dienkripsi.\n",
    "    \"\"\"\n",
    "    encrypted_text = []\n",
    "    key = generate_key(plain_text, keyword)\n",
    "\n",
    "    for i in range(len(plain_text)):\n",
    "        if plain_text[i].isalpha():\n",
    "            shift = ord(key[i].upper()) - ord('A')\n",
    "            if plain_text[i].isupper():\n",
    "                encrypted_char = chr((ord(plain_text[i]) - ord('A') + shift) % 26 + ord('A'))\n",
    "            else:\n",
    "                encrypted_char = chr((ord(plain_text[i]) - ord('a') + shift) % 26 + ord('a'))\n",
    "            encrypted_text.append(encrypted_char)\n",
    "        else:\n",
    "            encrypted_text.append(plain_text[i])\n",
    "\n",
    "    return \"\".join(encrypted_text)\n",
    "\n",
    "# Contoh penggunaan\n",
    "message = \"saya m thirza salendra dari sumatra selatan\"\n",
    "keyword = \"sriwijaya\"\n",
    "encrypted = encrypt_vigenere(message, keyword)\n",
    "print(\"Pesan asli     :\", message)\n",
    "print(\"Keyword        :\", keyword)\n",
    "print(\"Hasil enkripsi :\", encrypted)"
   ]
  }
 ],
 "metadata": {
  "kernelspec": {
   "display_name": "Python [conda env:base] *",
   "language": "python",
   "name": "conda-base-py"
  },
  "language_info": {
   "codemirror_mode": {
    "name": "ipython",
    "version": 3
   },
   "file_extension": ".py",
   "mimetype": "text/x-python",
   "name": "python",
   "nbconvert_exporter": "python",
   "pygments_lexer": "ipython3",
   "version": "3.12.7"
  }
 },
 "nbformat": 4,
 "nbformat_minor": 5
}
