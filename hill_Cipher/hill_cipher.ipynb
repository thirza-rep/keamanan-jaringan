{
 "cells": [
  {
   "cell_type": "code",
   "execution_count": 7,
   "id": "6603f8da-d837-4d20-9779-0f56aa8a8890",
   "metadata": {},
   "outputs": [
    {
     "name": "stdout",
     "output_type": "stream",
     "text": [
      "Ciphertext: EYNFTCWDRL\n",
      "Decrypted: AKUTHIRZAX\n"
     ]
    }
   ],
   "source": [
    "import numpy as np\n",
    "from hill_cipher import hill_encrypt, hill_decrypt\n",
    "\n",
    "# Matriks kunci 2x2\n",
    "key = np.array([[3, 3],\n",
    "                [2, 5]])\n",
    "\n",
    "# Teks asli\n",
    "plaintext = \"AKU THIRZA\"\n",
    "\n",
    "# Enkripsi\n",
    "ciphertext = hill_encrypt(plaintext, key)\n",
    "print(\"Ciphertext:\", ciphertext)\n",
    "\n",
    "# Dekripsi\n",
    "decrypted = hill_decrypt(ciphertext, key)\n",
    "print(\"Decrypted:\", decrypted)\n"
   ]
  },
  {
   "cell_type": "code",
   "execution_count": null,
   "id": "01c0c310-5ca1-44f5-9aad-61a77f56e6e8",
   "metadata": {},
   "outputs": [],
   "source": []
  }
 ],
 "metadata": {
  "kernelspec": {
   "display_name": "Python [conda env:base] *",
   "language": "python",
   "name": "conda-base-py"
  },
  "language_info": {
   "codemirror_mode": {
    "name": "ipython",
    "version": 3
   },
   "file_extension": ".py",
   "mimetype": "text/x-python",
   "name": "python",
   "nbconvert_exporter": "python",
   "pygments_lexer": "ipython3",
   "version": "3.12.7"
  }
 },
 "nbformat": 4,
 "nbformat_minor": 5
}
