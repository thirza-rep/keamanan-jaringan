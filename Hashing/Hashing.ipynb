{
 "cells": [
  {
   "cell_type": "code",
   "execution_count": 2,
   "id": "78ae2459-18f4-4583-8caf-794f09d982f7",
   "metadata": {},
   "outputs": [
    {
     "name": "stdout",
     "output_type": "stream",
     "text": [
      "Kunci Enkripsi     : II0fLq1S_1YyjxgEnmOqWVp_4SFnWePtBzN5NcLF0h8=\n",
      "Data Terenkripsi   : gAAAAABoYW-Lu8dI-r9Lr9bbxZktzoExuStUrmWH82KxuNsS6BRQt2Lx46qzbSPrM38ShBKICzGpL3UpUXuExOGvYWI8P7j6Cnck-GRO7NxyAZv0-mwwzcg=\n",
      "Data Setelah Dekripsi: 4111111111111111|123|12/27\n"
     ]
    }
   ],
   "source": [
    "from cryptography.fernet import Fernet\n",
    "\n",
    "kunci = Fernet.generate_key()\n",
    "fernet = Fernet(kunci)\n",
    "\n",
    "data_kartu = \"4111111111111111|123|12/27\"\n",
    "\n",
    "terenkripsi = fernet.encrypt(data_kartu.encode())\n",
    "\n",
    "terdekripsi = fernet.decrypt(terenkripsi).decode()\n",
    "\n",
    "print(\"Kunci Enkripsi     :\", kunci.decode())\n",
    "print(\"Data Terenkripsi   :\", terenkripsi.decode())\n",
    "print(\"Data Setelah Dekripsi:\", terdekripsi)\n"
   ]
  }
 ],
 "metadata": {
  "kernelspec": {
   "display_name": "Python [conda env:base] *",
   "language": "python",
   "name": "conda-base-py"
  },
  "language_info": {
   "codemirror_mode": {
    "name": "ipython",
    "version": 3
   },
   "file_extension": ".py",
   "mimetype": "text/x-python",
   "name": "python",
   "nbconvert_exporter": "python",
   "pygments_lexer": "ipython3",
   "version": "3.12.7"
  }
 },
 "nbformat": 4,
 "nbformat_minor": 5
}
