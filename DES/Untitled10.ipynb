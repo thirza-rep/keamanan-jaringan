{
 "cells": [
  {
   "cell_type": "code",
   "execution_count": 1,
   "id": "4e2466ad-501d-4feb-924d-309172044494",
   "metadata": {},
   "outputs": [
    {
     "name": "stdout",
     "output_type": "stream",
     "text": [
      "Collecting pycryptodome\n",
      "  Downloading pycryptodome-3.23.0-cp37-abi3-win_amd64.whl.metadata (3.5 kB)\n",
      "Downloading pycryptodome-3.23.0-cp37-abi3-win_amd64.whl (1.8 MB)\n",
      "   ---------------------------------------- 0.0/1.8 MB ? eta -:--:--\n",
      "   ---------------------------------------- 0.0/1.8 MB ? eta -:--:--\n",
      "   ----------- ---------------------------- 0.5/1.8 MB 2.8 MB/s eta 0:00:01\n",
      "   ----------------- ---------------------- 0.8/1.8 MB 2.2 MB/s eta 0:00:01\n",
      "   ----------------------------- ---------- 1.3/1.8 MB 2.4 MB/s eta 0:00:01\n",
      "   ---------------------------------- ----- 1.6/1.8 MB 2.0 MB/s eta 0:00:01\n",
      "   ---------------------------------------- 1.8/1.8 MB 1.8 MB/s eta 0:00:00\n",
      "Installing collected packages: pycryptodome\n",
      "Successfully installed pycryptodome-3.23.0\n"
     ]
    }
   ],
   "source": [
    "!pip install pycryptodome\n"
   ]
  },
  {
   "cell_type": "code",
   "execution_count": 5,
   "id": "f60d6703-762b-44b2-90d4-45cd9f48fe80",
   "metadata": {},
   "outputs": [
    {
     "name": "stdout",
     "output_type": "stream",
     "text": [
      "Encrypted: 84c473aea0a5b0083a801a0e5f9067a2979a09d27f928740d9c512d91bc6ba34feb959b7d4642fcb\n",
      "Decrypted: Sriwijaya, berselang serundingan\n"
     ]
    }
   ],
   "source": [
    "from Crypto.Cipher import DES\n",
    "from Crypto.Random import get_random_bytes\n",
    "from Crypto.Util.Padding import pad, unpad\n",
    "\n",
    "key = b'12345678'  # 8 bytes\n",
    "\n",
    "cipher = DES.new(key, DES.MODE_ECB)\n",
    "\n",
    "data = b'Sriwijaya, berselang serundingan'\n",
    "padded_data = pad(data, DES.block_size)\n",
    "\n",
    "encrypted = cipher.encrypt(padded_data)\n",
    "print(\"Encrypted:\", encrypted.hex())\n",
    "\n",
    "cipher2 = DES.new(key, DES.MODE_ECB)\n",
    "decrypted_padded = cipher2.decrypt(encrypted)\n",
    "decrypted = unpad(decrypted_padded, DES.block_size)\n",
    "print(\"Decrypted:\", decrypted.decode())\n"
   ]
  }
 ],
 "metadata": {
  "kernelspec": {
   "display_name": "Python [conda env:base] *",
   "language": "python",
   "name": "conda-base-py"
  },
  "language_info": {
   "codemirror_mode": {
    "name": "ipython",
    "version": 3
   },
   "file_extension": ".py",
   "mimetype": "text/x-python",
   "name": "python",
   "nbconvert_exporter": "python",
   "pygments_lexer": "ipython3",
   "version": "3.12.7"
  }
 },
 "nbformat": 4,
 "nbformat_minor": 5
}
